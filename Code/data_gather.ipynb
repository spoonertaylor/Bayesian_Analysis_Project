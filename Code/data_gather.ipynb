{
 "cells": [
  {
   "cell_type": "code",
   "execution_count": 2,
   "metadata": {
    "collapsed": false
   },
   "outputs": [],
   "source": [
    "import urllib.request\n",
    "from bs4 import BeautifulSoup\n",
    "import pandas as pd\n",
    "import numpy as np\n",
    "import re\n",
    "from datetime import datetime\n",
    "from time import sleep"
   ]
  },
  {
   "cell_type": "code",
   "execution_count": 387,
   "metadata": {
    "collapsed": true
   },
   "outputs": [],
   "source": [
    "def gather_data(team, year):\n",
    "    # Load URL\n",
    "    # Customize for specific url\n",
    "    url = 'http://www.hoopsstats.com/basketball/fantasy/nba/%s/team/schedule/%d/%d/1-2-2-date' % (teams[team][1], year, teams[team][0])\n",
    "    words = urllib.request.urlopen(url)\n",
    "    words2 = BeautifulSoup(words, 'html.parser')\n",
    "    # Get all of the game tables\n",
    "    # This includes the oponent and when the game was\n",
    "    stats = []\n",
    "    for tab in words2.find_all('table'):\n",
    "        if tab.has_attr('class'):\n",
    "            if tab['class'][0] == 'statscontent':\n",
    "                stats.append(tab)\n",
    "    # Get all of the stats in the rows\n",
    "    stats2 = []\n",
    "    for t in words2.find_all('center'):\n",
    "        stats2.append(t)\n",
    "    # Create data frame\n",
    "    nrow=int(len(stats)/2)\n",
    "    games = pd.DataFrame(columns=['home_team', 'away_team', 'date', 'result', 'score' ,'min',\n",
    "                              'H_pts', 'H_reb', 'H_ast', 'H_stl', 'H_blk', 'H_to',\n",
    "                              'H_pf', 'H_dreb', 'H_oreb', 'H_fgma', 'H_fgpct', 'H_3gma', 'H_3pct',\n",
    "                              'H_ftma', 'H_ftpct', 'H_eff', \n",
    "                              'dummy1', 'dummy2', 'dummy_min',\n",
    "                              'A_pts', 'A_reb', 'A_ast', 'A_stl', 'A_blk', 'A_to',\n",
    "                              'A_pf', 'A_dreb', 'A_oreb', 'A_fgma', 'A_fgpct', 'A_3gma', 'A_3pct',\n",
    "                              'A_ftma', 'A_ftpct', 'A_eff'], index=range(nrow))\n",
    "    # Home Team\n",
    "    games['home_team'] = team\n",
    "    # Fill with first stats\n",
    "    ## Away team and date\n",
    "    game_num = 0\n",
    "    for g in stats:\n",
    "        k = 0\n",
    "        # For each game, the info is in td tags\n",
    "        for j in g.find_all('td'):\n",
    "            val = j.get_text()\n",
    "            # Every other game is a blank line, break out and go to next game\n",
    "            if val == \"\":\n",
    "                break\n",
    "            if(k == 0):\n",
    "                # Convert date into a date object\n",
    "                d = datetime.strptime(val, '%b %d')\n",
    "                d2 = datetime.strftime(d, \"%m/%d\")\n",
    "                # Try to put the value in, if out of bounds why?\n",
    "                try:\n",
    "                    games.set_value(game_num, 'date', d2)\n",
    "                except IndexError:\n",
    "                    print(game_num)\n",
    "                    print(val)\n",
    "            # Strip the vs from the Away team and add to df.\n",
    "            elif(k == 1):\n",
    "                try:\n",
    "                    games.set_value(game_num, 'away_team', re.findall(r'\\s.+$', val)[0].strip())\n",
    "                except IndexError:\n",
    "                    print(game_num)\n",
    "                    print(val)\n",
    "            k += 1\n",
    "        # If we weren't dealing with the blank table.\n",
    "        if val != '':\n",
    "            game_num += 1\n",
    "    \n",
    "    # Fill with the rest of the stats\n",
    "    game_num = 0\n",
    "    idx = 0\n",
    "    game_stats = stats2[21::] # The first 21 values are the column headers\n",
    "    while game_num < len(stats):\n",
    "        # There are 38 columns to fill with the current games stats\n",
    "        this_game = game_stats[idx:idx+38]\n",
    "        # the random non-stats rows of the tables.\n",
    "        try:\n",
    "            # If it is one of the weird non-stats columns, skip to the next game by adding 21\n",
    "            if(this_game[0].get_text() == \"Date\"):\n",
    "                idx += 21\n",
    "                this_game = game_stats[idx:idx+38]\n",
    "            col_num = 3\n",
    "            # Loop over the stats for that specific game\n",
    "            # Add to data frame\n",
    "            for i in range(len(this_game)):\n",
    "                try:\n",
    "                    games.iloc[game_num, col_num] = this_game[i].get_text()\n",
    "                except IndexError:\n",
    "                    print(game_num, col_num, game_stats[i].get_text())\n",
    "                col_num += 1\n",
    "            # Go to the next game\n",
    "            idx += 38\n",
    "            # Increment game number\n",
    "            game_num += 1\n",
    "        # We have probably just reached the end\n",
    "        except IndexError:\n",
    "            break\n",
    "    # Get rid of dummy cols\n",
    "    games.drop(['score', 'dummy1', 'dummy2', 'dummy_min'], axis=1, inplace=True)\n",
    "    return games"
   ]
  },
  {
   "cell_type": "code",
   "execution_count": 5,
   "metadata": {
    "collapsed": true
   },
   "outputs": [],
   "source": [
    "teams = {\n",
    "    \"Atlanta\": (1, \"atlanta-hawks\"),\n",
    "    \"Brooklyn\": (18,\"brooklyn-nets\"),\n",
    "    \"Boston\": (2, \"boston-celtics\"),\n",
    "    \"Charlotte\": (3, \"charlotte-hornets\"),\n",
    "    \"Chicago\": (4, \"chicago-bulls\"),\n",
    "    \"Cleveland\": (5, \"cleveland-cavaliers\"),\n",
    "    \"Dallas\": (6, \"dallas-mavericks\"),\n",
    "    \"Denver\": (7, \"denver-nuggets\"),\n",
    "    \"Detroit\": (8, \"detroit-pistons\"),\n",
    "    \"Golden State\": (9, \"golden-state-warriors\"),\n",
    "    \"Houston\": (10, \"houston-rockets\"),\n",
    "    \"Indiana\": (11, \"indiana-pacers\"),\n",
    "    \"L.A. Clippers\": (12, \"los-angeles-clippers\"),\n",
    "    \"L.A. Lakers\": (13, \"los-angeles-lakers\"),\n",
    "    \"Memphis\": (14, \"memphis-grizzlies\"),\n",
    "    \"Miami\": (15, \"miami-heat\"),\n",
    "    \"Milwaukee\": (16, \"milwaukee-bucks\"),\n",
    "    \"Minnesota\": (17, \"minnesota-timberwolves\"),\n",
    "    \"New Orleans\": (19, \"new-orleans-pelicans\"),\n",
    "    \"New York\": (20, \"new-york-knicks\"),\n",
    "    \"Oklahoma City\": (21, \"oklahoma-city-thunder\"),\n",
    "    \"Orlando Magic\": (22, \"orlando-magic\"),\n",
    "    \"Philadelphia\": (23, \"philadelphia-76ers\"),\n",
    "    \"Phoenix\": (24, \"phoenix-suns\"),\n",
    "    \"Portland\": (25, \"portland-trail-blazers\"),\n",
    "    \"Sacramento\": (26, \"sacramento-kings\"),\n",
    "    \"San Antonio\": (27, \"san-antonio-spurs\"),\n",
    "    \"Toronto\": (28, \"toronto-raptors\"),\n",
    "    \"Utah\": (29, \"utah-jazz\"),\n",
    "    \"Washington\": (30, \"washington-wizards\")\n",
    "}"
   ]
  },
  {
   "cell_type": "code",
   "execution_count": 390,
   "metadata": {
    "collapsed": false,
    "scrolled": true
   },
   "outputs": [],
   "source": [
    "atl = gather_data(\"Atlanta\", 17)"
   ]
  },
  {
   "cell_type": "code",
   "execution_count": 385,
   "metadata": {
    "collapsed": false
   },
   "outputs": [],
   "source": [
    "# First file\n",
    "with open('stats551data.csv', 'a') as f:\n",
    "    atl.to_csv(f, header=True, index=False)"
   ]
  },
  {
   "cell_type": "code",
   "execution_count": 386,
   "metadata": {
    "collapsed": false
   },
   "outputs": [],
   "source": [
    "# For rest of teams:\n",
    "for team in teams:\n",
    "    if team == \"Atlanta\":\n",
    "        next\n",
    "    else:\n",
    "        sleep(3)\n",
    "        df = gather_data(team, 17)\n",
    "        with open('stats551data.csv', 'a') as f:\n",
    "            df.to_csv(f, header=False, index=False)"
   ]
  },
  {
   "cell_type": "markdown",
   "metadata": {
    "collapsed": true
   },
   "source": [
    "Read in the data to do a little more data management."
   ]
  },
  {
   "cell_type": "code",
   "execution_count": 68,
   "metadata": {
    "collapsed": false
   },
   "outputs": [],
   "source": [
    "data = pd.read_csv(\"../Data/stats551data.csv\")"
   ]
  },
  {
   "cell_type": "code",
   "execution_count": 69,
   "metadata": {
    "collapsed": false
   },
   "outputs": [
    {
     "data": {
      "text/html": [
       "<div>\n",
       "<style>\n",
       "    .dataframe thead tr:only-child th {\n",
       "        text-align: right;\n",
       "    }\n",
       "\n",
       "    .dataframe thead th {\n",
       "        text-align: left;\n",
       "    }\n",
       "\n",
       "    .dataframe tbody tr th {\n",
       "        vertical-align: top;\n",
       "    }\n",
       "</style>\n",
       "<table border=\"1\" class=\"dataframe\">\n",
       "  <thead>\n",
       "    <tr style=\"text-align: right;\">\n",
       "      <th></th>\n",
       "      <th>index</th>\n",
       "      <th>team_idx</th>\n",
       "    </tr>\n",
       "  </thead>\n",
       "  <tbody>\n",
       "    <tr>\n",
       "      <th>0</th>\n",
       "      <td>Atlanta</td>\n",
       "      <td>1</td>\n",
       "    </tr>\n",
       "    <tr>\n",
       "      <th>1</th>\n",
       "      <td>Boston</td>\n",
       "      <td>2</td>\n",
       "    </tr>\n",
       "    <tr>\n",
       "      <th>2</th>\n",
       "      <td>Brooklyn</td>\n",
       "      <td>18</td>\n",
       "    </tr>\n",
       "    <tr>\n",
       "      <th>3</th>\n",
       "      <td>Charlotte</td>\n",
       "      <td>3</td>\n",
       "    </tr>\n",
       "    <tr>\n",
       "      <th>4</th>\n",
       "      <td>Chicago</td>\n",
       "      <td>4</td>\n",
       "    </tr>\n",
       "  </tbody>\n",
       "</table>\n",
       "</div>"
      ],
      "text/plain": [
       "       index team_idx\n",
       "0    Atlanta        1\n",
       "1     Boston        2\n",
       "2   Brooklyn       18\n",
       "3  Charlotte        3\n",
       "4    Chicago        4"
      ]
     },
     "execution_count": 69,
     "metadata": {},
     "output_type": "execute_result"
    }
   ],
   "source": [
    "# Join together the team index\n",
    "teamsdf = pd.DataFrame(teams).transpose().reset_index()\n",
    "teamsdf.rename(index=str, columns={0: 'team_idx', 1:'website'}, inplace=True)\n",
    "teamsdf.drop('website', axis=1, inplace=True)\n",
    "teamsdf.head()"
   ]
  },
  {
   "cell_type": "code",
   "execution_count": 70,
   "metadata": {
    "collapsed": false
   },
   "outputs": [],
   "source": [
    "data2 = pd.merge(data, teamsdf, how=\"left\", left_on='home_team', right_on='index')\n",
    "data2.rename(index=str, columns={'team_idx': 'home_team_idx'}, inplace=True)\n",
    "data2 = pd.merge(data2, teamsdf, how=\"left\", left_on='away_team', right_on='index')\n",
    "data2.rename(index=str, columns={'team_idx':'away_team_idx'}, inplace=True)\n",
    "data2.drop(['index_x', 'index_y'], axis=1, inplace=True)"
   ]
  },
  {
   "cell_type": "code",
   "execution_count": 71,
   "metadata": {
    "collapsed": false
   },
   "outputs": [
    {
     "data": {
      "text/plain": [
       "array(['home_team', 'away_team', 'date', 'result', 'min', 'H_pts', 'H_reb',\n",
       "       'H_ast', 'H_stl', 'H_blk', 'H_to', 'H_pf', 'H_dreb', 'H_oreb',\n",
       "       'H_fgma', 'H_fgpct', 'H_3gma', 'H_3pct', 'H_ftma', 'H_ftpct',\n",
       "       'H_eff', 'A_pts', 'A_reb', 'A_ast', 'A_stl', 'A_blk', 'A_to',\n",
       "       'A_pf', 'A_dreb', 'A_oreb', 'A_fgma', 'A_fgpct', 'A_3gma', 'A_3pct',\n",
       "       'A_ftma', 'A_ftpct', 'A_eff', 'home_team_idx', 'away_team_idx'], dtype=object)"
      ]
     },
     "execution_count": 71,
     "metadata": {},
     "output_type": "execute_result"
    }
   ],
   "source": [
    "# Split field goals, 3's and FT made and attempted \n",
    "data2.columns.values"
   ]
  },
  {
   "cell_type": "code",
   "execution_count": 72,
   "metadata": {
    "collapsed": false
   },
   "outputs": [],
   "source": [
    "data2['H_FGM'], data2['H_FGA'] = data2['H_fgma'].str.split('-').str\n",
    "data2['A_FGM'], data2['A_FGA'] = data2['A_fgma'].str.split('-').str\n",
    "data2['H_3M'], data2['H_3A'] = data2['H_3gma'].str.split('-').str\n",
    "data2['A_3M'], data2['A_3A'] = data2['A_3gma'].str.split('-').str\n",
    "data2['H_FTM'], data2['H_FTA'] = data2['H_ftma'].str.split('-').str\n",
    "data2['A_FTM'], data2['A_FTA'] = data2['A_ftma'].str.split('-').str"
   ]
  },
  {
   "cell_type": "code",
   "execution_count": 73,
   "metadata": {
    "collapsed": true
   },
   "outputs": [],
   "source": [
    "data2.drop(['H_fgma', 'A_fgma', 'H_3gma', 'A_3gma', 'H_ftma', 'A_ftma'], axis=1, inplace=True)"
   ]
  },
  {
   "cell_type": "markdown",
   "metadata": {},
   "source": [
    "Now make indicators for regular season games and pre/post all star games"
   ]
  },
  {
   "cell_type": "code",
   "execution_count": 74,
   "metadata": {
    "collapsed": false
   },
   "outputs": [],
   "source": [
    "for i in range(data2.shape[0]):\n",
    "    if int(data2['date'].str.split('/')[i][0]) > 7:\n",
    "        data2.iloc[i,2] += '/2016'\n",
    "    else:\n",
    "        data2.iloc[i,2] += '/2017'"
   ]
  },
  {
   "cell_type": "code",
   "execution_count": 75,
   "metadata": {
    "collapsed": false
   },
   "outputs": [],
   "source": [
    "data2['date'] = pd.to_datetime(data2['date'], format=\"%m/%d/%Y\")"
   ]
  },
  {
   "cell_type": "code",
   "execution_count": 43,
   "metadata": {
    "collapsed": false
   },
   "outputs": [
    {
     "data": {
      "text/plain": [
       "True"
      ]
     },
     "execution_count": 43,
     "metadata": {},
     "output_type": "execute_result"
    }
   ],
   "source": [
    "data2['date'][0] < datetime.strptime('5/3/2017', '%m/%d/%Y')"
   ]
  },
  {
   "cell_type": "code",
   "execution_count": 76,
   "metadata": {
    "collapsed": false
   },
   "outputs": [],
   "source": [
    "# Regular season ended on April 12th\n",
    "data2['reg_season'] = np.where(data2['date'] < datetime.strptime('4/13/2017', '%m/%d/%Y'), True, False)"
   ]
  },
  {
   "cell_type": "code",
   "execution_count": 77,
   "metadata": {
    "collapsed": false
   },
   "outputs": [],
   "source": [
    "# All star game was Feb 19\n",
    "data2['pre_allstar'] = np.where(data2['date'] < datetime.strptime('2/19/2017', '%m/%d/%Y'), True, False)"
   ]
  },
  {
   "cell_type": "code",
   "execution_count": 78,
   "metadata": {
    "collapsed": true
   },
   "outputs": [],
   "source": [
    "data2.to_csv('../Data/stats551data_updated.csv', index=False)"
   ]
  }
 ],
 "metadata": {
  "kernelspec": {
   "display_name": "Python 3",
   "language": "python",
   "name": "python3"
  },
  "language_info": {
   "codemirror_mode": {
    "name": "ipython",
    "version": 3
   },
   "file_extension": ".py",
   "mimetype": "text/x-python",
   "name": "python",
   "nbconvert_exporter": "python",
   "pygments_lexer": "ipython3",
   "version": "3.6.0"
  }
 },
 "nbformat": 4,
 "nbformat_minor": 2
}
