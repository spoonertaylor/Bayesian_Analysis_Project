{
 "cells": [
  {
   "cell_type": "code",
   "execution_count": 1,
   "metadata": {
    "collapsed": false
   },
   "outputs": [],
   "source": [
    "import urllib.request\n",
    "from bs4 import BeautifulSoup\n",
    "import pandas as pd\n",
    "import numpy as np\n",
    "import re\n",
    "from datetime import datetime\n",
    "from time import sleep\n",
    "import sys"
   ]
  },
  {
   "cell_type": "code",
   "execution_count": 2,
   "metadata": {
    "collapsed": true
   },
   "outputs": [],
   "source": [
    "def gather_data(team, year):\n",
    "    # Load URL\n",
    "    # Customize for specific url\n",
    "    url = 'http://www.hoopsstats.com/basketball/fantasy/nba/%s/team/schedule/%d/%d/1-2-2-date' % (teams[team][1], year, teams[team][0])\n",
    "    words = urllib.request.urlopen(url)\n",
    "    words2 = BeautifulSoup(words, 'html.parser')\n",
    "    if words.code != 200:\n",
    "        print(team)\n",
    "        print(url)\n",
    "        sys.exit(1)\n",
    "    # Get all of the game tables\n",
    "    # This includes the oponent and when the game was\n",
    "    stats = []\n",
    "    for tab in words2.find_all('table'):\n",
    "        if tab.has_attr('class'):\n",
    "            if tab['class'][0] == 'statscontent':\n",
    "                stats.append(tab)\n",
    "    # Get all of the stats in the rows\n",
    "    stats2 = []\n",
    "    for t in words2.find_all('center'):\n",
    "        stats2.append(t)\n",
    "    # Create data frame\n",
    "    nrow=int(len(stats)/2)\n",
    "    games = pd.DataFrame(columns=['home_team', 'away_team', 'date', 'result', 'score' ,'min',\n",
    "                              'H_pts', 'H_reb', 'H_ast', 'H_stl', 'H_blk', 'H_to',\n",
    "                              'H_pf', 'H_dreb', 'H_oreb', 'H_fgma', 'H_fgpct', 'H_3gma', 'H_3pct',\n",
    "                              'H_ftma', 'H_ftpct', 'H_eff', \n",
    "                              'dummy1', 'dummy2', 'dummy_min',\n",
    "                              'A_pts', 'A_reb', 'A_ast', 'A_stl', 'A_blk', 'A_to',\n",
    "                              'A_pf', 'A_dreb', 'A_oreb', 'A_fgma', 'A_fgpct', 'A_3gma', 'A_3pct',\n",
    "                              'A_ftma', 'A_ftpct', 'A_eff'], index=range(nrow))\n",
    "    # Home Team\n",
    "    games['home_team'] = team\n",
    "    # Fill with first stats\n",
    "    ## Away team and date\n",
    "    game_num = 0\n",
    "    for g in stats:\n",
    "        k = 0\n",
    "        # For each game, the info is in td tags\n",
    "        for j in g.find_all('td'):\n",
    "            val = j.get_text()\n",
    "            # Every other game is a blank line, break out and go to next game\n",
    "            if val == \"\":\n",
    "                break\n",
    "            if(k == 0):\n",
    "                try:\n",
    "                    if val[0:3] in ['Jan', 'Feb', 'Mar', 'Apr', 'May', 'Jun']:\n",
    "                        yr = str(20) + str(year)\n",
    "                        val += '/' + yr\n",
    "                    else:\n",
    "                        yr = str(20) + str(year-1)\n",
    "                        val += '/' + yr\n",
    "                    # Convert date into a date object\n",
    "                    d = datetime.strptime(val, '%b %d/%Y')\n",
    "                    d2 = datetime.strftime(d, \"%m/%d/%Y\")\n",
    "                except ValueError:\n",
    "                    print(team)\n",
    "                    print(val)\n",
    "                # Try to put the value in, if out of bounds why?\n",
    "                try:\n",
    "                    games.set_value(game_num, 'date', d2)\n",
    "                except IndexError:\n",
    "                    print(game_num)\n",
    "                    print(val)\n",
    "            # Strip the vs from the Away team and add to df.\n",
    "            elif(k == 1):\n",
    "                try:\n",
    "                    games.set_value(game_num, 'away_team', re.findall(r'\\s.+$', val)[0].strip())\n",
    "                except IndexError:\n",
    "                    print(game_num)\n",
    "                    print(val)\n",
    "            k += 1\n",
    "        # If we weren't dealing with the blank table.\n",
    "        if val != '':\n",
    "            game_num += 1\n",
    "    \n",
    "    # Fill with the rest of the stats\n",
    "    game_num = 0\n",
    "    idx = 0\n",
    "    game_stats = stats2[21::] # The first 21 values are the column headers\n",
    "    while game_num < len(stats):\n",
    "        # There are 38 columns to fill with the current games stats\n",
    "        this_game = game_stats[idx:idx+38]\n",
    "        # the random non-stats rows of the tables.\n",
    "        try:\n",
    "            # If it is one of the weird non-stats columns, skip to the next game by adding 21\n",
    "            if(this_game[0].get_text() == \"Date\"):\n",
    "                idx += 21\n",
    "                this_game = game_stats[idx:idx+38]\n",
    "            col_num = 3\n",
    "            # Loop over the stats for that specific game\n",
    "            # Add to data frame\n",
    "            for i in range(len(this_game)):\n",
    "                try:\n",
    "                    games.iloc[game_num, col_num] = this_game[i].get_text()\n",
    "                except IndexError:\n",
    "                    print(game_num, col_num, game_stats[i].get_text())\n",
    "                col_num += 1\n",
    "            # Go to the next game\n",
    "            idx += 38\n",
    "            # Increment game number\n",
    "            game_num += 1\n",
    "        # We have probably just reached the end\n",
    "        except IndexError:\n",
    "            break\n",
    "    # Get rid of dummy cols\n",
    "    games.drop(['score', 'dummy1', 'dummy2', 'dummy_min'], axis=1, inplace=True)\n",
    "    return games"
   ]
  },
  {
   "cell_type": "code",
   "execution_count": 3,
   "metadata": {
    "collapsed": true
   },
   "outputs": [],
   "source": [
    "teams = {\n",
    "    \"Atlanta\": (1, \"atlanta-hawks\"),\n",
    "    \"Brooklyn\": (18,\"brooklyn-nets\"),\n",
    "    \"Boston\": (2, \"boston-celtics\"),\n",
    "    \"Charlotte\": (3, \"charlotte-hornets\"),\n",
    "    \"Chicago\": (4, \"chicago-bulls\"),\n",
    "    \"Cleveland\": (5, \"cleveland-cavaliers\"),\n",
    "    \"Dallas\": (6, \"dallas-mavericks\"),\n",
    "    \"Denver\": (7, \"denver-nuggets\"),\n",
    "    \"Detroit\": (8, \"detroit-pistons\"),\n",
    "    \"Golden State\": (9, \"golden-state-warriors\"),\n",
    "    \"Houston\": (10, \"houston-rockets\"),\n",
    "    \"Indiana\": (11, \"indiana-pacers\"),\n",
    "    \"L.A. Clippers\": (12, \"los-angeles-clippers\"),\n",
    "    \"L.A. Lakers\": (13, \"los-angeles-lakers\"),\n",
    "    \"Memphis\": (14, \"memphis-grizzlies\"),\n",
    "    \"Miami\": (15, \"miami-heat\"),\n",
    "    \"Milwaukee\": (16, \"milwaukee-bucks\"),\n",
    "    \"Minnesota\": (17, \"minnesota-timberwolves\"),\n",
    "    \"New Orleans\": (19, \"new-orleans-pelicans\"),\n",
    "    \"New York\": (20, \"new-york-knicks\"),\n",
    "    \"Oklahoma City\": (21, \"oklahoma-city-thunder\"),\n",
    "    \"Orlando Magic\": (22, \"orlando-magic\"),\n",
    "    \"Philadelphia\": (23, \"philadelphia-76ers\"),\n",
    "    \"Phoenix\": (24, \"phoenix-suns\"),\n",
    "    \"Portland\": (25, \"portland-trail-blazers\"),\n",
    "    \"Sacramento\": (26, \"sacramento-kings\"),\n",
    "    \"San Antonio\": (27, \"san-antonio-spurs\"),\n",
    "    \"Toronto\": (28, \"toronto-raptors\"),\n",
    "    \"Utah\": (29, \"utah-jazz\"),\n",
    "    \"Washington\": (30, \"washington-wizards\")\n",
    "}"
   ]
  },
  {
   "cell_type": "code",
   "execution_count": 390,
   "metadata": {
    "collapsed": false,
    "scrolled": true
   },
   "outputs": [],
   "source": [
    "atl = gather_data(\"Atlanta\", 17)"
   ]
  },
  {
   "cell_type": "code",
   "execution_count": 385,
   "metadata": {
    "collapsed": false
   },
   "outputs": [],
   "source": [
    "# First file\n",
    "with open('stats551data.csv', 'a') as f:\n",
    "    atl.to_csv(f, header=True, index=False)"
   ]
  },
  {
   "cell_type": "code",
   "execution_count": 386,
   "metadata": {
    "collapsed": false
   },
   "outputs": [],
   "source": [
    "# For rest of teams:\n",
    "for team in teams:\n",
    "    if team == \"Atlanta\":\n",
    "        next\n",
    "    else:\n",
    "        sleep(3)\n",
    "        df = gather_data(team, 17)\n",
    "        with open('stats551data.csv', 'a') as f:\n",
    "            df.to_csv(f, header=False, index=False)"
   ]
  },
  {
   "cell_type": "markdown",
   "metadata": {
    "collapsed": true
   },
   "source": [
    "Read in the data to do a little more data management."
   ]
  },
  {
   "cell_type": "code",
   "execution_count": 4,
   "metadata": {
    "collapsed": false
   },
   "outputs": [
    {
     "data": {
      "text/html": [
       "<div>\n",
       "<style>\n",
       "    .dataframe thead tr:only-child th {\n",
       "        text-align: right;\n",
       "    }\n",
       "\n",
       "    .dataframe thead th {\n",
       "        text-align: left;\n",
       "    }\n",
       "\n",
       "    .dataframe tbody tr th {\n",
       "        vertical-align: top;\n",
       "    }\n",
       "</style>\n",
       "<table border=\"1\" class=\"dataframe\">\n",
       "  <thead>\n",
       "    <tr style=\"text-align: right;\">\n",
       "      <th></th>\n",
       "      <th>index</th>\n",
       "      <th>team_idx</th>\n",
       "    </tr>\n",
       "  </thead>\n",
       "  <tbody>\n",
       "    <tr>\n",
       "      <th>0</th>\n",
       "      <td>Atlanta</td>\n",
       "      <td>1</td>\n",
       "    </tr>\n",
       "    <tr>\n",
       "      <th>1</th>\n",
       "      <td>Boston</td>\n",
       "      <td>2</td>\n",
       "    </tr>\n",
       "    <tr>\n",
       "      <th>2</th>\n",
       "      <td>Brooklyn</td>\n",
       "      <td>18</td>\n",
       "    </tr>\n",
       "    <tr>\n",
       "      <th>3</th>\n",
       "      <td>Charlotte</td>\n",
       "      <td>3</td>\n",
       "    </tr>\n",
       "    <tr>\n",
       "      <th>4</th>\n",
       "      <td>Chicago</td>\n",
       "      <td>4</td>\n",
       "    </tr>\n",
       "  </tbody>\n",
       "</table>\n",
       "</div>"
      ],
      "text/plain": [
       "       index team_idx\n",
       "0    Atlanta        1\n",
       "1     Boston        2\n",
       "2   Brooklyn       18\n",
       "3  Charlotte        3\n",
       "4    Chicago        4"
      ]
     },
     "execution_count": 4,
     "metadata": {},
     "output_type": "execute_result"
    }
   ],
   "source": [
    "# Join together the team index\n",
    "teamsdf = pd.DataFrame(teams).transpose().reset_index()\n",
    "teamsdf.rename(index=str, columns={0: 'team_idx', 1:'website'}, inplace=True)\n",
    "teamsdf.drop('website', axis=1, inplace=True)\n",
    "teamsdf.head()"
   ]
  },
  {
   "cell_type": "code",
   "execution_count": 68,
   "metadata": {
    "collapsed": false
   },
   "outputs": [],
   "source": [
    "data = pd.read_csv(\"../Data/stats551data.csv\")"
   ]
  },
  {
   "cell_type": "code",
   "execution_count": 5,
   "metadata": {
    "collapsed": true
   },
   "outputs": [],
   "source": [
    "def clean_data(data, teamsdf, reg_season_date, all_star_date):\n",
    "    '''Function to add team indicator values, split the field goal type columns\n",
    "    and add indicators for regular season and before all star games.\n",
    "    The two date arguments must be strings of the form %m/%d/%Y\n",
    "    '''\n",
    "    # Merge the data with the teams\n",
    "    data2 = pd.merge(data, teamsdf, how=\"left\", left_on='home_team', right_on='index')\n",
    "    data2.rename(index=str, columns={'team_idx': 'home_team_idx'}, inplace=True)\n",
    "    data2 = pd.merge(data2, teamsdf, how=\"left\", left_on='away_team', right_on='index')\n",
    "    data2.rename(index=str, columns={'team_idx':'away_team_idx'}, inplace=True)\n",
    "    data2.drop(['index_x', 'index_y'], axis=1, inplace=True)\n",
    "    \n",
    "    # Split the FG, 3p and FT columns\n",
    "    data2['H_FGM'], data2['H_FGA'] = data2['H_fgma'].str.split('-').str\n",
    "    data2['A_FGM'], data2['A_FGA'] = data2['A_fgma'].str.split('-').str\n",
    "    data2['H_3M'], data2['H_3A'] = data2['H_3gma'].str.split('-').str\n",
    "    data2['A_3M'], data2['A_3A'] = data2['A_3gma'].str.split('-').str\n",
    "    data2['H_FTM'], data2['H_FTA'] = data2['H_ftma'].str.split('-').str\n",
    "    data2['A_FTM'], data2['A_FTA'] = data2['A_ftma'].str.split('-').str\n",
    "    \n",
    "    data2.drop(['H_fgma', 'A_fgma', 'H_3gma', 'A_3gma', 'H_ftma', 'A_ftma'], axis=1, inplace=True)\n",
    "    \n",
    "    # Now make indicators for regular season games\n",
    "    data2['date'] = pd.to_datetime(data2['date'])\n",
    "    data2['reg_season'] = np.where(data2['date'] < datetime.strptime(reg_season_date, '%m/%d/%Y'), True, False)\n",
    "    data2['pre_allstar'] = np.where(data2['date'] < datetime.strptime(all_star_date, '%m/%d/%Y'), True, False)\n",
    "    \n",
    "    return(data2)"
   ]
  },
  {
   "cell_type": "markdown",
   "metadata": {},
   "source": [
    "Now make indicators for regular season games and pre/post all star games"
   ]
  },
  {
   "cell_type": "code",
   "execution_count": null,
   "metadata": {
    "collapsed": true
   },
   "outputs": [],
   "source": [
    "data2_1617 = clean(data, teamsdf, '4/13/2017','2/19/2017')"
   ]
  },
  {
   "cell_type": "code",
   "execution_count": 78,
   "metadata": {
    "collapsed": true
   },
   "outputs": [],
   "source": [
    "data2.to_csv('../Data/stats551data_updated.csv', index=False)"
   ]
  },
  {
   "cell_type": "markdown",
   "metadata": {},
   "source": [
    "Let's also get the data from the 2015-2016 season."
   ]
  },
  {
   "cell_type": "code",
   "execution_count": 6,
   "metadata": {
    "collapsed": true
   },
   "outputs": [],
   "source": [
    "# First file\n",
    "atl = gather_data(\"Atlanta\", 16)"
   ]
  },
  {
   "cell_type": "code",
   "execution_count": 7,
   "metadata": {
    "collapsed": true
   },
   "outputs": [],
   "source": [
    "with open('../Data/stats551data_2015_2016.csv', 'a') as f:\n",
    "    atl.to_csv(f, header=True, index=False)"
   ]
  },
  {
   "cell_type": "code",
   "execution_count": 8,
   "metadata": {
    "collapsed": false
   },
   "outputs": [],
   "source": [
    "# For rest of teams:\n",
    "for team in teams:\n",
    "    if team == \"Atlanta\":\n",
    "        next\n",
    "    else:\n",
    "        df = gather_data(team, 16)\n",
    "        with open('../Data/stats551data_2015_2016.csv', 'a') as f:\n",
    "            df.to_csv(f, header=False, index=False)"
   ]
  },
  {
   "cell_type": "code",
   "execution_count": 9,
   "metadata": {
    "collapsed": false
   },
   "outputs": [],
   "source": [
    "# Read back in data\n",
    "data2_1516 =  pd.read_csv(\"../Data/stats551data_2015_2016.csv\")\n",
    "data2_1516 = clean_data(data2_1516, teamsdf, '4/14/2016', '2/14/2016')\n",
    "data2_1516.to_csv('../Data/stats551data_1516_updated.csv')"
   ]
  },
  {
   "cell_type": "code",
   "execution_count": 10,
   "metadata": {
    "collapsed": false
   },
   "outputs": [
    {
     "data": {
      "text/html": [
       "<div>\n",
       "<style>\n",
       "    .dataframe thead tr:only-child th {\n",
       "        text-align: right;\n",
       "    }\n",
       "\n",
       "    .dataframe thead th {\n",
       "        text-align: left;\n",
       "    }\n",
       "\n",
       "    .dataframe tbody tr th {\n",
       "        vertical-align: top;\n",
       "    }\n",
       "</style>\n",
       "<table border=\"1\" class=\"dataframe\">\n",
       "  <thead>\n",
       "    <tr style=\"text-align: right;\">\n",
       "      <th></th>\n",
       "      <th>home_team</th>\n",
       "      <th>away_team</th>\n",
       "      <th>date</th>\n",
       "      <th>result</th>\n",
       "      <th>min</th>\n",
       "      <th>H_pts</th>\n",
       "      <th>H_reb</th>\n",
       "      <th>H_ast</th>\n",
       "      <th>H_stl</th>\n",
       "      <th>H_blk</th>\n",
       "      <th>...</th>\n",
       "      <th>H_3M</th>\n",
       "      <th>H_3A</th>\n",
       "      <th>A_3M</th>\n",
       "      <th>A_3A</th>\n",
       "      <th>H_FTM</th>\n",
       "      <th>H_FTA</th>\n",
       "      <th>A_FTM</th>\n",
       "      <th>A_FTA</th>\n",
       "      <th>reg_season</th>\n",
       "      <th>pre_allstar</th>\n",
       "    </tr>\n",
       "  </thead>\n",
       "  <tbody>\n",
       "    <tr>\n",
       "      <th>0</th>\n",
       "      <td>Atlanta</td>\n",
       "      <td>Cleveland</td>\n",
       "      <td>2016-05-08</td>\n",
       "      <td>L</td>\n",
       "      <td>48</td>\n",
       "      <td>99</td>\n",
       "      <td>42</td>\n",
       "      <td>22</td>\n",
       "      <td>9</td>\n",
       "      <td>7</td>\n",
       "      <td>...</td>\n",
       "      <td>9</td>\n",
       "      <td>31</td>\n",
       "      <td>16</td>\n",
       "      <td>37</td>\n",
       "      <td>10</td>\n",
       "      <td>14</td>\n",
       "      <td>8</td>\n",
       "      <td>13</td>\n",
       "      <td>False</td>\n",
       "      <td>False</td>\n",
       "    </tr>\n",
       "    <tr>\n",
       "      <th>1</th>\n",
       "      <td>Atlanta</td>\n",
       "      <td>Cleveland</td>\n",
       "      <td>2016-05-06</td>\n",
       "      <td>L</td>\n",
       "      <td>48</td>\n",
       "      <td>108</td>\n",
       "      <td>28</td>\n",
       "      <td>29</td>\n",
       "      <td>8</td>\n",
       "      <td>7</td>\n",
       "      <td>...</td>\n",
       "      <td>16</td>\n",
       "      <td>34</td>\n",
       "      <td>21</td>\n",
       "      <td>39</td>\n",
       "      <td>10</td>\n",
       "      <td>12</td>\n",
       "      <td>16</td>\n",
       "      <td>27</td>\n",
       "      <td>False</td>\n",
       "      <td>False</td>\n",
       "    </tr>\n",
       "    <tr>\n",
       "      <th>2</th>\n",
       "      <td>Atlanta</td>\n",
       "      <td>Boston</td>\n",
       "      <td>2016-04-26</td>\n",
       "      <td>W</td>\n",
       "      <td>48</td>\n",
       "      <td>110</td>\n",
       "      <td>51</td>\n",
       "      <td>30</td>\n",
       "      <td>13</td>\n",
       "      <td>3</td>\n",
       "      <td>...</td>\n",
       "      <td>14</td>\n",
       "      <td>36</td>\n",
       "      <td>7</td>\n",
       "      <td>29</td>\n",
       "      <td>12</td>\n",
       "      <td>16</td>\n",
       "      <td>18</td>\n",
       "      <td>25</td>\n",
       "      <td>False</td>\n",
       "      <td>False</td>\n",
       "    </tr>\n",
       "    <tr>\n",
       "      <th>3</th>\n",
       "      <td>Atlanta</td>\n",
       "      <td>Boston</td>\n",
       "      <td>2016-04-19</td>\n",
       "      <td>W</td>\n",
       "      <td>48</td>\n",
       "      <td>89</td>\n",
       "      <td>49</td>\n",
       "      <td>20</td>\n",
       "      <td>7</td>\n",
       "      <td>15</td>\n",
       "      <td>...</td>\n",
       "      <td>11</td>\n",
       "      <td>29</td>\n",
       "      <td>5</td>\n",
       "      <td>28</td>\n",
       "      <td>14</td>\n",
       "      <td>16</td>\n",
       "      <td>11</td>\n",
       "      <td>12</td>\n",
       "      <td>False</td>\n",
       "      <td>False</td>\n",
       "    </tr>\n",
       "    <tr>\n",
       "      <th>4</th>\n",
       "      <td>Atlanta</td>\n",
       "      <td>Boston</td>\n",
       "      <td>2016-04-16</td>\n",
       "      <td>W</td>\n",
       "      <td>48</td>\n",
       "      <td>102</td>\n",
       "      <td>53</td>\n",
       "      <td>23</td>\n",
       "      <td>4</td>\n",
       "      <td>9</td>\n",
       "      <td>...</td>\n",
       "      <td>5</td>\n",
       "      <td>27</td>\n",
       "      <td>11</td>\n",
       "      <td>35</td>\n",
       "      <td>27</td>\n",
       "      <td>35</td>\n",
       "      <td>16</td>\n",
       "      <td>19</td>\n",
       "      <td>False</td>\n",
       "      <td>False</td>\n",
       "    </tr>\n",
       "  </tbody>\n",
       "</table>\n",
       "<p>5 rows × 47 columns</p>\n",
       "</div>"
      ],
      "text/plain": [
       "  home_team  away_team       date result  min  H_pts  H_reb  H_ast  H_stl  \\\n",
       "0   Atlanta  Cleveland 2016-05-08      L   48     99     42     22      9   \n",
       "1   Atlanta  Cleveland 2016-05-06      L   48    108     28     29      8   \n",
       "2   Atlanta     Boston 2016-04-26      W   48    110     51     30     13   \n",
       "3   Atlanta     Boston 2016-04-19      W   48     89     49     20      7   \n",
       "4   Atlanta     Boston 2016-04-16      W   48    102     53     23      4   \n",
       "\n",
       "   H_blk     ...       H_3M  H_3A  A_3M  A_3A  H_FTM  H_FTA  A_FTM  A_FTA  \\\n",
       "0      7     ...          9    31    16    37     10     14      8     13   \n",
       "1      7     ...         16    34    21    39     10     12     16     27   \n",
       "2      3     ...         14    36     7    29     12     16     18     25   \n",
       "3     15     ...         11    29     5    28     14     16     11     12   \n",
       "4      9     ...          5    27    11    35     27     35     16     19   \n",
       "\n",
       "   reg_season  pre_allstar  \n",
       "0       False        False  \n",
       "1       False        False  \n",
       "2       False        False  \n",
       "3       False        False  \n",
       "4       False        False  \n",
       "\n",
       "[5 rows x 47 columns]"
      ]
     },
     "execution_count": 10,
     "metadata": {},
     "output_type": "execute_result"
    }
   ],
   "source": [
    "data2_1516.head()"
   ]
  },
  {
   "cell_type": "code",
   "execution_count": null,
   "metadata": {
    "collapsed": true
   },
   "outputs": [],
   "source": []
  }
 ],
 "metadata": {
  "kernelspec": {
   "display_name": "Python 3",
   "language": "python",
   "name": "python3"
  },
  "language_info": {
   "codemirror_mode": {
    "name": "ipython",
    "version": 3
   },
   "file_extension": ".py",
   "mimetype": "text/x-python",
   "name": "python",
   "nbconvert_exporter": "python",
   "pygments_lexer": "ipython3",
   "version": "3.6.0"
  }
 },
 "nbformat": 4,
 "nbformat_minor": 2
}
