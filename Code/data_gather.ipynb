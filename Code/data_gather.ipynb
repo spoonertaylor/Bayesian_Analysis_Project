{
 "cells": [
  {
   "cell_type": "code",
   "execution_count": 374,
   "metadata": {
    "collapsed": false
   },
   "outputs": [],
   "source": [
    "import urllib.request\n",
    "from bs4 import BeautifulSoup\n",
    "import pandas as pd\n",
    "import numpy as np\n",
    "import re\n",
    "from datetime import datetime\n",
    "from time import sleep"
   ]
  },
  {
   "cell_type": "code",
   "execution_count": 387,
   "metadata": {
    "collapsed": true
   },
   "outputs": [],
   "source": [
    "def gather_data(team, year):\n",
    "    # Load URL\n",
    "    # Customize for specific url\n",
    "    url = 'http://www.hoopsstats.com/basketball/fantasy/nba/%s/team/schedule/%d/%d/1-2-2-date' % (teams[team][1], year, teams[team][0])\n",
    "    words = urllib.request.urlopen(url)\n",
    "    words2 = BeautifulSoup(words, 'html.parser')\n",
    "    # Get all of the game tables\n",
    "    # This includes the oponent and when the game was\n",
    "    stats = []\n",
    "    for tab in words2.find_all('table'):\n",
    "        if tab.has_attr('class'):\n",
    "            if tab['class'][0] == 'statscontent':\n",
    "                stats.append(tab)\n",
    "    # Get all of the stats in the rows\n",
    "    stats2 = []\n",
    "    for t in words2.find_all('center'):\n",
    "        stats2.append(t)\n",
    "    # Create data frame\n",
    "    nrow=int(len(stats)/2)\n",
    "    games = pd.DataFrame(columns=['home_team', 'away_team', 'date', 'result', 'score' ,'min',\n",
    "                              'H_pts', 'H_reb', 'H_ast', 'H_stl', 'H_blk', 'H_to',\n",
    "                              'H_pf', 'H_dreb', 'H_oreb', 'H_fgma', 'H_fgpct', 'H_3gma', 'H_3pct',\n",
    "                              'H_ftma', 'H_ftpct', 'H_eff', \n",
    "                              'dummy1', 'dummy2', 'dummy_min',\n",
    "                              'A_pts', 'A_reb', 'A_ast', 'A_stl', 'A_blk', 'A_to',\n",
    "                              'A_pf', 'A_dreb', 'A_oreb', 'A_fgma', 'A_fgpct', 'A_3gma', 'A_3pct',\n",
    "                              'A_ftma', 'A_ftpct', 'A_eff'], index=range(nrow))\n",
    "    # Home Team\n",
    "    games['home_team'] = team\n",
    "    # Fill with first stats\n",
    "    ## Away team and date\n",
    "    game_num = 0\n",
    "    for g in stats:\n",
    "        k = 0\n",
    "        # For each game, the info is in td tags\n",
    "        for j in g.find_all('td'):\n",
    "            val = j.get_text()\n",
    "            # Every other game is a blank line, break out and go to next game\n",
    "            if val == \"\":\n",
    "                break\n",
    "            if(k == 0):\n",
    "                # Convert date into a date object\n",
    "                d = datetime.strptime(val, '%b %d')\n",
    "                d2 = datetime.strftime(d, \"%m/%d\")\n",
    "                # Try to put the value in, if out of bounds why?\n",
    "                try:\n",
    "                    games.set_value(game_num, 'date', d2)\n",
    "                except IndexError:\n",
    "                    print(game_num)\n",
    "                    print(val)\n",
    "            # Strip the vs from the Away team and add to df.\n",
    "            elif(k == 1):\n",
    "                try:\n",
    "                    games.set_value(game_num, 'away_team', re.findall(r'\\s.+$', val)[0].strip())\n",
    "                except IndexError:\n",
    "                    print(game_num)\n",
    "                    print(val)\n",
    "            k += 1\n",
    "        # If we weren't dealing with the blank table.\n",
    "        if val != '':\n",
    "            game_num += 1\n",
    "    \n",
    "    # Fill with the rest of the stats\n",
    "    game_num = 0\n",
    "    idx = 0\n",
    "    game_stats = stats2[21::] # The first 21 values are the column headers\n",
    "    while game_num < len(stats):\n",
    "        # There are 38 columns to fill with the current games stats\n",
    "        this_game = game_stats[idx:idx+38]\n",
    "        # the random non-stats rows of the tables.\n",
    "        try:\n",
    "            # If it is one of the weird non-stats columns, skip to the next game by adding 21\n",
    "            if(this_game[0].get_text() == \"Date\"):\n",
    "                idx += 21\n",
    "                this_game = game_stats[idx:idx+38]\n",
    "            col_num = 3\n",
    "            # Loop over the stats for that specific game\n",
    "            # Add to data frame\n",
    "            for i in range(len(this_game)):\n",
    "                try:\n",
    "                    games.iloc[game_num, col_num] = this_game[i].get_text()\n",
    "                except IndexError:\n",
    "                    print(game_num, col_num, game_stats[i].get_text())\n",
    "                col_num += 1\n",
    "            # Go to the next game\n",
    "            idx += 38\n",
    "            # Increment game number\n",
    "            game_num += 1\n",
    "        # We have probably just reached the end\n",
    "        except IndexError:\n",
    "            break\n",
    "    # Get rid of dummy cols\n",
    "    games.drop(['score', 'dummy1', 'dummy2', 'dummy_min'], axis=1, inplace=True)\n",
    "    return games"
   ]
  },
  {
   "cell_type": "code",
   "execution_count": 376,
   "metadata": {
    "collapsed": true
   },
   "outputs": [],
   "source": [
    "teams = {\n",
    "    \"Atlanta\": (1, \"atlanta-hawks\"),\n",
    "    \"Brooklyn\": (18,\"brooklyn-nets\"),\n",
    "    \"Boston\": (2, \"boston-celtics\"),\n",
    "    \"Charlotte\": (3, \"charlotte-hornets\"),\n",
    "    \"Chicago\": (4, \"chicago-bulls\"),\n",
    "    \"Cleveland\": (5, \"cleveland-cavaliers\"),\n",
    "    \"Dallas\": (6, \"dallas-mavericks\"),\n",
    "    \"Denver\": (7, \"denver-nuggets\"),\n",
    "    \"Detroit\": (8, \"detroit-pistons\"),\n",
    "    \"Golden State\": (9, \"golden-state-warriors\"),\n",
    "    \"Houston\": (10, \"houston-rockets\"),\n",
    "    \"Indiana\": (11, \"indiana-pacers\"),\n",
    "    \"L.A. Clippers\": (12, \"los-angeles-clippers\"),\n",
    "    \"L.A. Lakers\": (13, \"los-angeles-lakers\"),\n",
    "    \"Memphis\": (14, \"memphis-grizzlies\"),\n",
    "    \"Miami\": (15, \"miami-heat\"),\n",
    "    \"Milwaukee\": (16, \"milwaukee-bucks\"),\n",
    "    \"Minnesota\": (17, \"minnesota-timberwolves\"),\n",
    "    \"New Orleans\": (19, \"new-orleans-pelicans\"),\n",
    "    \"New York\": (20, \"new-york-knicks\"),\n",
    "    \"Oklahoma City\": (21, \"oklahoma-city-thunder\"),\n",
    "    \"Orlando Magic\": (22, \"orlando-magic\"),\n",
    "    \"Philadelphia\": (23, \"philadelphia-76ers\"),\n",
    "    \"Phoenix\": (24, \"phoenix-suns\"),\n",
    "    \"Portland\": (25, \"portland-trail-blazers\"),\n",
    "    \"Sacramento\": (26, \"sacramento-kings\"),\n",
    "    \"San Antonio\": (27, \"san-antonio-spurs\"),\n",
    "    \"Toronto\": (28, \"toronto-raptors\"),\n",
    "    \"Utah\": (29, \"utah-jazz\"),\n",
    "    \"Washington\": (30, \"washington-wizards\")\n",
    "}"
   ]
  },
  {
   "cell_type": "code",
   "execution_count": 390,
   "metadata": {
    "collapsed": false,
    "scrolled": true
   },
   "outputs": [],
   "source": [
    "atl = gather_data(\"Atlanta\", 17)"
   ]
  },
  {
   "cell_type": "code",
   "execution_count": 385,
   "metadata": {
    "collapsed": false
   },
   "outputs": [],
   "source": [
    "# First file\n",
    "with open('stats551data.csv', 'a') as f:\n",
    "    atl.to_csv(f, header=True, index=False)"
   ]
  },
  {
   "cell_type": "code",
   "execution_count": 386,
   "metadata": {
    "collapsed": false
   },
   "outputs": [],
   "source": [
    "# For rest of teams:\n",
    "for team in teams:\n",
    "    if team == \"Atlanta\":\n",
    "        next\n",
    "    else:\n",
    "        sleep(3)\n",
    "        df = gather_data(team, 17)\n",
    "        with open('stats551data.csv', 'a') as f:\n",
    "            df.to_csv(f, header=False, index=False)"
   ]
  },
  {
   "cell_type": "code",
   "execution_count": null,
   "metadata": {
    "collapsed": true
   },
   "outputs": [],
   "source": []
  }
 ],
 "metadata": {
  "kernelspec": {
   "display_name": "Python 3",
   "language": "python",
   "name": "python3"
  },
  "language_info": {
   "codemirror_mode": {
    "name": "ipython",
    "version": 3
   },
   "file_extension": ".py",
   "mimetype": "text/x-python",
   "name": "python",
   "nbconvert_exporter": "python",
   "pygments_lexer": "ipython3",
   "version": "3.6.0"
  }
 },
 "nbformat": 4,
 "nbformat_minor": 2
}
